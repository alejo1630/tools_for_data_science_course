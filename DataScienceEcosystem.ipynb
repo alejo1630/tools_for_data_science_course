{
 "cells": [
  {
   "cell_type": "markdown",
   "id": "05a24958-cd8e-4945-855b-19d41fc8692a",
   "metadata": {},
   "source": [
    "# Data Science Tools and Ecosystem"
   ]
  },
  {
   "cell_type": "markdown",
   "id": "32adb1d8-b192-44b6-821b-0b1c4e579213",
   "metadata": {},
   "source": [
    "In this notebook, Data Science Tools and Ecosystem are summarized"
   ]
  },
  {
   "cell_type": "markdown",
   "id": "86161294-5dd8-47c1-b863-e529ccc0ac0c",
   "metadata": {},
   "source": [
    "Some of the popular languages that Data Scientists use are:\n",
    "1. Python\n",
    "2. R\n",
    "3. Julia\n",
    "4. SQL\n",
    "5. JavaScript\n",
    "6. Java\n"
   ]
  },
  {
   "cell_type": "markdown",
   "id": "3dafca84-8583-4d62-9336-fb9ad6469fa6",
   "metadata": {},
   "source": [
    "Some of the commonly used libraries used by Data Scientists include:\n",
    "\n",
    "1. Pandas\n",
    "2. Numpy\n",
    "3. Matplotlib\n",
    "4. Scikit-Learn\n",
    "5. Seaborn\n",
    "6. Ternsorflow\n",
    "7. Pytorch"
   ]
  },
  {
   "cell_type": "markdown",
   "id": "2ffdb959-f4df-42fb-b00b-d5fcc4dc3f91",
   "metadata": {},
   "source": [
    "|Data Science Tools|\n",
    "|------------------|\n",
    "|RStudio|\n",
    "|Apache Spark|\n",
    "|Apache Hadoop|\n"
   ]
  },
  {
   "cell_type": "markdown",
   "id": "4a62f816-4722-4398-9f4b-d42cab6464e3",
   "metadata": {},
   "source": [
    "### Below are a few examples of evaluating arithmetic expressions in Python"
   ]
  },
  {
   "cell_type": "code",
   "execution_count": 2,
   "id": "e88694cc-3e1b-4e5f-a9ab-80eb35dc90af",
   "metadata": {
    "tags": []
   },
   "outputs": [
    {
     "data": {
      "text/plain": [
       "17"
      ]
     },
     "execution_count": 2,
     "metadata": {},
     "output_type": "execute_result"
    }
   ],
   "source": [
    "# This a simple arithmetic expression to mutiply then add integers\n",
    "(3 * 4) + 5"
   ]
  },
  {
   "cell_type": "code",
   "execution_count": 3,
   "id": "0f372f56-d3bf-4fd5-881b-8260264d8b50",
   "metadata": {
    "tags": []
   },
   "outputs": [
    {
     "data": {
      "text/plain": [
       "3.3333333333333335"
      ]
     },
     "execution_count": 3,
     "metadata": {},
     "output_type": "execute_result"
    }
   ],
   "source": [
    "# This will convert 200 minutes to hours by diving by 60\n",
    "\n",
    "200 / 60"
   ]
  },
  {
   "cell_type": "markdown",
   "id": "fd284267-4b37-4786-bc3f-9f8428487eff",
   "metadata": {},
   "source": [
    "Objectives:\n",
    "\n",
    "* __List popular languages for Data Science__\n",
    "* __List of Data Science libraries__\n",
    "* __Evaluation of arithmetic expression with Python__"
   ]
  },
  {
   "cell_type": "markdown",
   "id": "4ec668b6-aa44-46ae-94cb-43aa546e957e",
   "metadata": {
    "tags": []
   },
   "source": [
    "## Author:\n",
    "Alejandro Castellanos"
   ]
  },
  {
   "cell_type": "code",
   "execution_count": null,
   "id": "ab1387be-4567-492a-acf4-3cf239173e70",
   "metadata": {},
   "outputs": [],
   "source": []
  }
 ],
 "metadata": {
  "kernelspec": {
   "display_name": "Python",
   "language": "python",
   "name": "conda-env-python-py"
  },
  "language_info": {
   "codemirror_mode": {
    "name": "ipython",
    "version": 3
   },
   "file_extension": ".py",
   "mimetype": "text/x-python",
   "name": "python",
   "nbconvert_exporter": "python",
   "pygments_lexer": "ipython3",
   "version": "3.7.12"
  }
 },
 "nbformat": 4,
 "nbformat_minor": 5
}
